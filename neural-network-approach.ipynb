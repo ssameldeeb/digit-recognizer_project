{
 "cells": [
  {
   "cell_type": "markdown",
   "id": "254802d4",
   "metadata": {
    "_cell_guid": "b6a03ea0-0790-bb3e-1b98-67de61de04b8",
    "_uuid": "d998b0b4a790e133681b5893d34d3bdca0c2f2ca",
    "papermill": {
     "duration": 0.010889,
     "end_time": "2021-12-21T11:02:36.453761",
     "exception": false,
     "start_time": "2021-12-21T11:02:36.442872",
     "status": "completed"
    },
    "tags": []
   },
   "source": [
    "#Neural Network Classification Model for Handwritten Digit Recognition \n",
    "I am using this data to work an example of neural network classification. "
   ]
  },
  {
   "cell_type": "code",
   "execution_count": 1,
   "id": "f43f936b",
   "metadata": {
    "_cell_guid": "1d09a305-ae97-cedc-ab9e-ffd895b00195",
    "_uuid": "ef25f721a19a0a59e78cc08ba5fc3a240564c710",
    "execution": {
     "iopub.execute_input": "2021-12-21T11:02:36.482361Z",
     "iopub.status.busy": "2021-12-21T11:02:36.481801Z",
     "iopub.status.idle": "2021-12-21T11:02:41.411815Z",
     "shell.execute_reply": "2021-12-21T11:02:41.411145Z"
    },
    "papermill": {
     "duration": 4.948179,
     "end_time": "2021-12-21T11:02:41.411990",
     "exception": false,
     "start_time": "2021-12-21T11:02:36.463811",
     "status": "completed"
    },
    "tags": []
   },
   "outputs": [],
   "source": [
    "# load modules\n",
    "import numpy as np \n",
    "import pandas as pd \n",
    "np.random.seed(1)\n",
    "# get data\n",
    "test  = pd.read_csv('../input/test.csv')\n",
    "train = pd.read_csv('../input/train.csv')"
   ]
  },
  {
   "cell_type": "markdown",
   "id": "7c117419",
   "metadata": {
    "_cell_guid": "0ade9a88-758a-1d76-cc36-1b798ce25e59",
    "_uuid": "fbc846e89d10018e2b32faa30ce99c1ba7a0397f",
    "papermill": {
     "duration": 0.008981,
     "end_time": "2021-12-21T11:02:41.431738",
     "exception": false,
     "start_time": "2021-12-21T11:02:41.422757",
     "status": "completed"
    },
    "tags": []
   },
   "source": [
    "## Exploratory Analysis\n",
    "Summary statistics and visualizations of data. The data is first preprocessed by visualizing the sample size for each digit in the dataset, plotting a few of the digits using the data provided to get an understanding of exactly what the data represents, normalizing the data, and reducing the features using PCA. It is important to note that this dataset is sparse, meaning that there are mostly 0's in the feature matrix. Some pixels carry a lot of information about the digit written, while other pixel features such as the edges and usually 0 and not very informative. The scale of the data used to represent the pixels is not numerically meaningful, which leads to the need to normalize the data so that the values do not contribute to the model in an improper way. "
   ]
  },
  {
   "cell_type": "code",
   "execution_count": 2,
   "id": "d2964031",
   "metadata": {
    "_cell_guid": "61fe6cdc-4d25-87e7-2ad2-105ffac58d1c",
    "_uuid": "70a7b89e4b0993822e01d9868a6cd20dad6faaa3",
    "execution": {
     "iopub.execute_input": "2021-12-21T11:02:41.453185Z",
     "iopub.status.busy": "2021-12-21T11:02:41.452637Z",
     "iopub.status.idle": "2021-12-21T11:02:41.476807Z",
     "shell.execute_reply": "2021-12-21T11:02:41.477242Z"
    },
    "papermill": {
     "duration": 0.036499,
     "end_time": "2021-12-21T11:02:41.477396",
     "exception": false,
     "start_time": "2021-12-21T11:02:41.440897",
     "status": "completed"
    },
    "tags": []
   },
   "outputs": [
    {
     "name": "stdout",
     "output_type": "stream",
     "text": [
      "(42000, 785)\n",
      "(28000, 784)\n"
     ]
    },
    {
     "data": {
      "text/html": [
       "<div>\n",
       "<style scoped>\n",
       "    .dataframe tbody tr th:only-of-type {\n",
       "        vertical-align: middle;\n",
       "    }\n",
       "\n",
       "    .dataframe tbody tr th {\n",
       "        vertical-align: top;\n",
       "    }\n",
       "\n",
       "    .dataframe thead th {\n",
       "        text-align: right;\n",
       "    }\n",
       "</style>\n",
       "<table border=\"1\" class=\"dataframe\">\n",
       "  <thead>\n",
       "    <tr style=\"text-align: right;\">\n",
       "      <th></th>\n",
       "      <th>label</th>\n",
       "      <th>pixel0</th>\n",
       "      <th>pixel1</th>\n",
       "      <th>pixel2</th>\n",
       "      <th>pixel3</th>\n",
       "      <th>pixel4</th>\n",
       "      <th>pixel5</th>\n",
       "      <th>pixel6</th>\n",
       "      <th>pixel7</th>\n",
       "      <th>pixel8</th>\n",
       "      <th>...</th>\n",
       "      <th>pixel774</th>\n",
       "      <th>pixel775</th>\n",
       "      <th>pixel776</th>\n",
       "      <th>pixel777</th>\n",
       "      <th>pixel778</th>\n",
       "      <th>pixel779</th>\n",
       "      <th>pixel780</th>\n",
       "      <th>pixel781</th>\n",
       "      <th>pixel782</th>\n",
       "      <th>pixel783</th>\n",
       "    </tr>\n",
       "  </thead>\n",
       "  <tbody>\n",
       "    <tr>\n",
       "      <th>0</th>\n",
       "      <td>1</td>\n",
       "      <td>0</td>\n",
       "      <td>0</td>\n",
       "      <td>0</td>\n",
       "      <td>0</td>\n",
       "      <td>0</td>\n",
       "      <td>0</td>\n",
       "      <td>0</td>\n",
       "      <td>0</td>\n",
       "      <td>0</td>\n",
       "      <td>...</td>\n",
       "      <td>0</td>\n",
       "      <td>0</td>\n",
       "      <td>0</td>\n",
       "      <td>0</td>\n",
       "      <td>0</td>\n",
       "      <td>0</td>\n",
       "      <td>0</td>\n",
       "      <td>0</td>\n",
       "      <td>0</td>\n",
       "      <td>0</td>\n",
       "    </tr>\n",
       "    <tr>\n",
       "      <th>1</th>\n",
       "      <td>0</td>\n",
       "      <td>0</td>\n",
       "      <td>0</td>\n",
       "      <td>0</td>\n",
       "      <td>0</td>\n",
       "      <td>0</td>\n",
       "      <td>0</td>\n",
       "      <td>0</td>\n",
       "      <td>0</td>\n",
       "      <td>0</td>\n",
       "      <td>...</td>\n",
       "      <td>0</td>\n",
       "      <td>0</td>\n",
       "      <td>0</td>\n",
       "      <td>0</td>\n",
       "      <td>0</td>\n",
       "      <td>0</td>\n",
       "      <td>0</td>\n",
       "      <td>0</td>\n",
       "      <td>0</td>\n",
       "      <td>0</td>\n",
       "    </tr>\n",
       "    <tr>\n",
       "      <th>2</th>\n",
       "      <td>1</td>\n",
       "      <td>0</td>\n",
       "      <td>0</td>\n",
       "      <td>0</td>\n",
       "      <td>0</td>\n",
       "      <td>0</td>\n",
       "      <td>0</td>\n",
       "      <td>0</td>\n",
       "      <td>0</td>\n",
       "      <td>0</td>\n",
       "      <td>...</td>\n",
       "      <td>0</td>\n",
       "      <td>0</td>\n",
       "      <td>0</td>\n",
       "      <td>0</td>\n",
       "      <td>0</td>\n",
       "      <td>0</td>\n",
       "      <td>0</td>\n",
       "      <td>0</td>\n",
       "      <td>0</td>\n",
       "      <td>0</td>\n",
       "    </tr>\n",
       "    <tr>\n",
       "      <th>3</th>\n",
       "      <td>4</td>\n",
       "      <td>0</td>\n",
       "      <td>0</td>\n",
       "      <td>0</td>\n",
       "      <td>0</td>\n",
       "      <td>0</td>\n",
       "      <td>0</td>\n",
       "      <td>0</td>\n",
       "      <td>0</td>\n",
       "      <td>0</td>\n",
       "      <td>...</td>\n",
       "      <td>0</td>\n",
       "      <td>0</td>\n",
       "      <td>0</td>\n",
       "      <td>0</td>\n",
       "      <td>0</td>\n",
       "      <td>0</td>\n",
       "      <td>0</td>\n",
       "      <td>0</td>\n",
       "      <td>0</td>\n",
       "      <td>0</td>\n",
       "    </tr>\n",
       "    <tr>\n",
       "      <th>4</th>\n",
       "      <td>0</td>\n",
       "      <td>0</td>\n",
       "      <td>0</td>\n",
       "      <td>0</td>\n",
       "      <td>0</td>\n",
       "      <td>0</td>\n",
       "      <td>0</td>\n",
       "      <td>0</td>\n",
       "      <td>0</td>\n",
       "      <td>0</td>\n",
       "      <td>...</td>\n",
       "      <td>0</td>\n",
       "      <td>0</td>\n",
       "      <td>0</td>\n",
       "      <td>0</td>\n",
       "      <td>0</td>\n",
       "      <td>0</td>\n",
       "      <td>0</td>\n",
       "      <td>0</td>\n",
       "      <td>0</td>\n",
       "      <td>0</td>\n",
       "    </tr>\n",
       "  </tbody>\n",
       "</table>\n",
       "<p>5 rows × 785 columns</p>\n",
       "</div>"
      ],
      "text/plain": [
       "   label  pixel0  pixel1  pixel2  pixel3  pixel4  pixel5  pixel6  pixel7  \\\n",
       "0      1       0       0       0       0       0       0       0       0   \n",
       "1      0       0       0       0       0       0       0       0       0   \n",
       "2      1       0       0       0       0       0       0       0       0   \n",
       "3      4       0       0       0       0       0       0       0       0   \n",
       "4      0       0       0       0       0       0       0       0       0   \n",
       "\n",
       "   pixel8  ...  pixel774  pixel775  pixel776  pixel777  pixel778  pixel779  \\\n",
       "0       0  ...         0         0         0         0         0         0   \n",
       "1       0  ...         0         0         0         0         0         0   \n",
       "2       0  ...         0         0         0         0         0         0   \n",
       "3       0  ...         0         0         0         0         0         0   \n",
       "4       0  ...         0         0         0         0         0         0   \n",
       "\n",
       "   pixel780  pixel781  pixel782  pixel783  \n",
       "0         0         0         0         0  \n",
       "1         0         0         0         0  \n",
       "2         0         0         0         0  \n",
       "3         0         0         0         0  \n",
       "4         0         0         0         0  \n",
       "\n",
       "[5 rows x 785 columns]"
      ]
     },
     "execution_count": 2,
     "metadata": {},
     "output_type": "execute_result"
    }
   ],
   "source": [
    "print(train.shape)\n",
    "print(test.shape)\n",
    "train.head()"
   ]
  },
  {
   "cell_type": "markdown",
   "id": "1d1834d7",
   "metadata": {
    "_cell_guid": "121eaf21-72a7-95b5-fa50-709289f0c606",
    "_uuid": "64d326efc7e1affdf5dc3fbfb0fa5b7c242ac859",
    "papermill": {
     "duration": 0.009551,
     "end_time": "2021-12-21T11:02:41.497772",
     "exception": false,
     "start_time": "2021-12-21T11:02:41.488221",
     "status": "completed"
    },
    "tags": []
   },
   "source": [
    "This simple histogram shows the count of digits in the training data for each number. This graphic is used to visualize if there is an unequal sample size among the digits. The sample size for each digit appear to be comparable. There is no issue of unequal sampling. "
   ]
  },
  {
   "cell_type": "code",
   "execution_count": 3,
   "id": "c033784a",
   "metadata": {
    "_cell_guid": "ed57e3c7-4a4b-9eae-03b5-f769271b5e98",
    "_uuid": "9451f5a2ec6b6171fbaa09a6f88b5d3bbe9df849",
    "execution": {
     "iopub.execute_input": "2021-12-21T11:02:41.527935Z",
     "iopub.status.busy": "2021-12-21T11:02:41.527331Z",
     "iopub.status.idle": "2021-12-21T11:02:41.748552Z",
     "shell.execute_reply": "2021-12-21T11:02:41.748969Z"
    },
    "papermill": {
     "duration": 0.241728,
     "end_time": "2021-12-21T11:02:41.749128",
     "exception": false,
     "start_time": "2021-12-21T11:02:41.507400",
     "status": "completed"
    },
    "tags": []
   },
   "outputs": [
    {
     "data": {
      "text/plain": [
       "Text(0, 0.5, 'Frequency')"
      ]
     },
     "execution_count": 3,
     "metadata": {},
     "output_type": "execute_result"
    },
    {
     "data": {
      "image/png": "[encoded data removed]",
      "text/plain": [
       "<Figure size 432x288 with 1 Axes>"
      ]
     },
     "metadata": {
      "needs_background": "light"
     },
     "output_type": "display_data"
    }
   ],
   "source": [
    "import matplotlib.pyplot as plt\n",
    "plt.hist(train[\"label\"])\n",
    "plt.title(\"Frequency Histogram of Numbers in Training Data\")\n",
    "plt.xlabel(\"Number Value\")\n",
    "plt.ylabel(\"Frequency\")"
   ]
  },
  {
   "cell_type": "markdown",
   "id": "36be5fa9",
   "metadata": {
    "_cell_guid": "c799fb06-3456-e8c3-116d-07e7dc24b9ad",
    "_uuid": "1cb5f0a1f0ea901a26461c892f6ad64be2c19e76",
    "papermill": {
     "duration": 0.010693,
     "end_time": "2021-12-21T11:02:41.770679",
     "exception": false,
     "start_time": "2021-12-21T11:02:41.759986",
     "status": "completed"
    },
    "tags": []
   },
   "source": [
    "This graphic plots the first few digits in the training set to show how this pixel data is representing digits, and to also show how the handwriting varies. Not all digits are written the same. For example, there is a lot of variation in how people write 4s and 9s. "
   ]
  },
  {
   "cell_type": "code",
   "execution_count": 4,
   "id": "ef1b2c8d",
   "metadata": {
    "_cell_guid": "783f23f6-3bf8-9bfa-919c-4878314ad88e",
    "_uuid": "141c5fcff8f94e9a4a379fc1af5162a1d813fe56",
    "execution": {
     "iopub.execute_input": "2021-12-21T11:02:41.902387Z",
     "iopub.status.busy": "2021-12-21T11:02:41.901436Z",
     "iopub.status.idle": "2021-12-21T11:02:43.706870Z",
     "shell.execute_reply": "2021-12-21T11:02:43.707321Z"
    },
    "papermill": {
     "duration": 1.926151,
     "end_time": "2021-12-21T11:02:43.707481",
     "exception": false,
     "start_time": "2021-12-21T11:02:41.781330",
     "status": "completed"
    },
    "tags": []
   },
   "outputs": [
    {
     "data": {
      "image/png": "[encoded data removed]",
      "text/plain": [
       "<Figure size 432x288 with 25 Axes>"
      ]
     },
     "metadata": {
      "needs_background": "light"
     },
     "output_type": "display_data"
    }
   ],
   "source": [
    "import math\n",
    "# plot the first 25 digits in the training set. \n",
    "f, ax = plt.subplots(5, 5)\n",
    "# plot some 4s as an example\n",
    "for i in range(1,26):\n",
    "    # Create a 1024x1024x3 array of 8 bit unsigned integers\n",
    "    data = train.iloc[i,1:785].values #this is the first number\n",
    "    nrows, ncols = 28, 28\n",
    "    grid = data.reshape((nrows, ncols))\n",
    "    n=math.ceil(i/5)-1\n",
    "    m=[0,1,2,3,4]*5\n",
    "    ax[m[i-1], n].imshow(grid)"
   ]
  },
  {
   "cell_type": "markdown",
   "id": "828f320c",
   "metadata": {
    "_cell_guid": "d3441104-ec16-4309-04ec-40ac63f9b821",
    "_uuid": "d2052f0511cf57cbc6318d900c677b166ba0a63b",
    "papermill": {
     "duration": 0.012303,
     "end_time": "2021-12-21T11:02:43.732362",
     "exception": false,
     "start_time": "2021-12-21T11:02:43.720059",
     "status": "completed"
    },
    "tags": []
   },
   "source": [
    "# PCA\n",
    "There are many features in this data resulting in high dimensionality. PCA is used to compress the features into a small but informative set of features before using the data in a machine learning model. Data is normalized before PCA is applied. This is so the scale of the data does not throw of the PCA, and so the 0's are represented meaningfully.  There is unequal variance in this data, and features with larger variance will influence the PCA more, creating bias. This is why the data is normalized. "
   ]
  },
  {
   "cell_type": "code",
   "execution_count": 5,
   "id": "3f4fa37d",
   "metadata": {
    "_cell_guid": "48e61f68-21e2-d101-d299-701433beab97",
    "_uuid": "e172a0b42717f7e71fe10626e1d354479960acff",
    "execution": {
     "iopub.execute_input": "2021-12-21T11:02:43.871328Z",
     "iopub.status.busy": "2021-12-21T11:02:43.870251Z",
     "iopub.status.idle": "2021-12-21T11:02:43.981192Z",
     "shell.execute_reply": "2021-12-21T11:02:43.980171Z"
    },
    "papermill": {
     "duration": 0.23638,
     "end_time": "2021-12-21T11:02:43.981336",
     "exception": false,
     "start_time": "2021-12-21T11:02:43.744956",
     "status": "completed"
    },
    "tags": []
   },
   "outputs": [],
   "source": [
    "## normalize data ##\n",
    "label_train=train['label']\n",
    "train=train.drop('label', axis=1)\n",
    "\n",
    "#normalize data\n",
    "train = train / 255\n",
    "test = test / 255\n",
    "train['label'] = label_train"
   ]
  },
  {
   "cell_type": "code",
   "execution_count": 6,
   "id": "afd9045e",
   "metadata": {
    "_cell_guid": "527791e7-3a05-09a2-970a-51dc3dfd3b5e",
    "_uuid": "04152a8265940d9577ece16b255f79747967fc6d",
    "execution": {
     "iopub.execute_input": "2021-12-21T11:02:44.012605Z",
     "iopub.status.busy": "2021-12-21T11:02:44.009243Z",
     "iopub.status.idle": "2021-12-21T11:02:53.723456Z",
     "shell.execute_reply": "2021-12-21T11:02:53.723945Z"
    },
    "papermill": {
     "duration": 9.730146,
     "end_time": "2021-12-21T11:02:53.724121",
     "exception": false,
     "start_time": "2021-12-21T11:02:43.993975",
     "status": "completed"
    },
    "tags": []
   },
   "outputs": [
    {
     "data": {
      "image/png": "[encoded data removed]",
      "text/plain": [
       "<Figure size 432x288 with 1 Axes>"
      ]
     },
     "metadata": {
      "needs_background": "light"
     },
     "output_type": "display_data"
    }
   ],
   "source": [
    "from sklearn import decomposition\n",
    "from sklearn import datasets\n",
    "\n",
    "## PCA decomposition\n",
    "pca = decomposition.PCA(n_components=200) #Finds first 200 PCs\n",
    "pca.fit(train.drop('label', axis=1))\n",
    "plt.plot(pca.explained_variance_ratio_)\n",
    "plt.ylabel('% of variance explained')\n",
    "#plot reaches asymptote at around 50, which is optimal number of PCs to use. \n",
    "\n",
    "## PCA decomposition with optimal number of PCs\n",
    "#decompose train data\n",
    "pca = decomposition.PCA(n_components=50) #use first 3 PCs (update to 100 later)\n",
    "pca.fit(train.drop('label', axis=1))\n",
    "PCtrain = pd.DataFrame(pca.transform(train.drop('label', axis=1)))\n",
    "PCtrain['label'] = train['label']\n",
    "\n",
    "#decompose test data\n",
    "#pca.fit(test)\n",
    "PCtest = pd.DataFrame(pca.transform(test))"
   ]
  },
  {
   "cell_type": "markdown",
   "id": "d90bafba",
   "metadata": {
    "_cell_guid": "15f0b27d-a2e7-f836-f613-64c997145bb1",
    "_uuid": "0edf9e385a94ac60e473b635d1810d42b23faaba",
    "papermill": {
     "duration": 0.01298,
     "end_time": "2021-12-21T11:02:53.750556",
     "exception": false,
     "start_time": "2021-12-21T11:02:53.737576",
     "status": "completed"
    },
    "tags": []
   },
   "source": [
    "This plot shows the separation of classes (digits) based on the first PCAs. Theoretically, these PCs should explain most of the variance in the data, enough to show separation in the groups of digits."
   ]
  },
  {
   "cell_type": "code",
   "execution_count": 7,
   "id": "4ac5253b",
   "metadata": {
    "_cell_guid": "2476c607-38f5-cd63-6169-063aef8626a8",
    "_uuid": "fa1a0ed49363d27bca9249b0a3da6cdd2290b7ca",
    "execution": {
     "iopub.execute_input": "2021-12-21T11:02:53.822273Z",
     "iopub.status.busy": "2021-12-21T11:02:53.821203Z",
     "iopub.status.idle": "2021-12-21T11:02:54.763688Z",
     "shell.execute_reply": "2021-12-21T11:02:54.763219Z"
    },
    "papermill": {
     "duration": 1.000242,
     "end_time": "2021-12-21T11:02:54.763825",
     "exception": false,
     "start_time": "2021-12-21T11:02:53.763583",
     "status": "completed"
    },
    "tags": []
   },
   "outputs": [
    {
     "data": {
      "image/png": "[encoded data removed]",
      "text/plain": [
       "<Figure size 432x288 with 1 Axes>"
      ]
     },
     "metadata": {
      "needs_background": "light"
     },
     "output_type": "display_data"
    }
   ],
   "source": [
    "from mpl_toolkits.mplot3d import Axes3D\n",
    "\n",
    "fig = plt.figure()\n",
    "ax = fig.add_subplot(111, projection='3d')\n",
    "#ax = fig.add_subplot(111)\n",
    "\n",
    "x =PCtrain[0]\n",
    "y =PCtrain[1]\n",
    "z =PCtrain[2]\n",
    "\n",
    "colors = [int(i % 9) for i in PCtrain['label']]\n",
    "ax.scatter(x, y, z, c=colors, marker='o', label=colors)\n",
    "\n",
    "ax.set_xlabel('PC1')\n",
    "ax.set_ylabel('PC2')\n",
    "ax.set_zlabel('PC3')\n",
    "\n",
    "plt.show()"
   ]
  },
  {
   "cell_type": "markdown",
   "id": "5e188e7a",
   "metadata": {
    "_cell_guid": "cab42f00-3379-e7e5-2163-f6944ad24378",
    "_uuid": "9a47bdfc54f24a64367c82a9696cec40e7ac2374",
    "papermill": {
     "duration": 0.014953,
     "end_time": "2021-12-21T11:02:54.794037",
     "exception": false,
     "start_time": "2021-12-21T11:02:54.779084",
     "status": "completed"
    },
    "tags": []
   },
   "source": [
    "#Neural Network"
   ]
  },
  {
   "cell_type": "code",
   "execution_count": 8,
   "id": "23e4a062",
   "metadata": {
    "_cell_guid": "89fbf7fd-06b8-dc26-1dd4-7025100fbb5b",
    "_uuid": "66c5cf1505a73fbdd056a924d0be6e1e030fb087",
    "execution": {
     "iopub.execute_input": "2021-12-21T11:02:54.827260Z",
     "iopub.status.busy": "2021-12-21T11:02:54.826721Z",
     "iopub.status.idle": "2021-12-21T11:04:39.360724Z",
     "shell.execute_reply": "2021-12-21T11:04:39.361622Z"
    },
    "papermill": {
     "duration": 104.552921,
     "end_time": "2021-12-21T11:04:39.362046",
     "exception": false,
     "start_time": "2021-12-21T11:02:54.809125",
     "status": "completed"
    },
    "tags": []
   },
   "outputs": [
    {
     "data": {
      "text/plain": [
       "MLPClassifier(alpha=1e-05, hidden_layer_sizes=(3500,), random_state=1,\n",
       "              solver='lbfgs')"
      ]
     },
     "execution_count": 8,
     "metadata": {},
     "output_type": "execute_result"
    }
   ],
   "source": [
    "from sklearn.neural_network import MLPClassifier\n",
    "y = PCtrain['label'][0:20000]\n",
    "X=PCtrain.drop('label', axis=1)[0:20000]\n",
    "clf = MLPClassifier(solver='lbfgs', alpha=1e-5,\n",
    "                    hidden_layer_sizes=(3500,), random_state=1)\n",
    "clf.fit(X, y)"
   ]
  },
  {
   "cell_type": "code",
   "execution_count": 9,
   "id": "923aa074",
   "metadata": {
    "_cell_guid": "de8a400f-46e5-3d10-593c-0e03b3f15ed1",
    "_uuid": "15d08a842133f5bef919e70fbc00eb9ef689e12d",
    "execution": {
     "iopub.execute_input": "2021-12-21T11:04:39.423573Z",
     "iopub.status.busy": "2021-12-21T11:04:39.422256Z",
     "iopub.status.idle": "2021-12-21T11:04:40.651824Z",
     "shell.execute_reply": "2021-12-21T11:04:40.652313Z"
    },
    "papermill": {
     "duration": 1.268769,
     "end_time": "2021-12-21T11:04:40.652484",
     "exception": false,
     "start_time": "2021-12-21T11:04:39.383715",
     "status": "completed"
    },
    "tags": []
   },
   "outputs": [
    {
     "name": "stdout",
     "output_type": "stream",
     "text": [
      "Classification report for classifier MLPClassifier(alpha=1e-05, hidden_layer_sizes=(3500,), random_state=1,\n",
      "              solver='lbfgs'):\n",
      "              precision    recall  f1-score   support\n",
      "\n",
      "           0       0.98      0.99      0.98      2200\n",
      "           1       0.99      0.99      0.99      2418\n",
      "           2       0.97      0.97      0.97      2167\n",
      "           3       0.96      0.95      0.96      2270\n",
      "           4       0.97      0.98      0.98      2101\n",
      "           5       0.97      0.97      0.97      2001\n",
      "           6       0.98      0.98      0.98      2155\n",
      "           7       0.97      0.98      0.97      2331\n",
      "           8       0.97      0.96      0.96      2148\n",
      "           9       0.96      0.95      0.96      2208\n",
      "\n",
      "    accuracy                           0.97     21999\n",
      "   macro avg       0.97      0.97      0.97     21999\n",
      "weighted avg       0.97      0.97      0.97     21999\n",
      "\n",
      "\n",
      "Confusion matrix:\n",
      "[[2169    0    4    0    3    5   11    1    2    5]\n",
      " [   0 2391    5    4    1    0    4    5    8    0]\n",
      " [   6    2 2106   17    4    1    3   15   10    3]\n",
      " [   5    3   25 2165    1   22    2   15   23    9]\n",
      " [   2    2    2    0 2054    0    4    9    1   27]\n",
      " [   7    2    1   20    2 1938   10    3    9    9]\n",
      " [   7    3    2    0   11   11 2118    0    3    0]\n",
      " [   5    5   13    0    7    4    0 2279    3   15]\n",
      " [   6   11    5   19    5   10    8    4 2066   14]\n",
      " [   7    5    3   19   20   17    2   19   15 2101]]\n"
     ]
    }
   ],
   "source": [
    "from sklearn import  metrics\n",
    "#accuracy and confusion matrix\n",
    "predicted = clf.predict(PCtrain.drop('label', axis=1)[20001:42000])\n",
    "expected = PCtrain['label'][20001:42000]\n",
    "\n",
    "print(\"Classification report for classifier %s:\\n%s\\n\"\n",
    "      % (clf, metrics.classification_report(expected, predicted)))\n",
    "print(\"Confusion matrix:\\n%s\" % metrics.confusion_matrix(expected, predicted))"
   ]
  },
  {
   "cell_type": "code",
   "execution_count": 10,
   "id": "38b45ce8",
   "metadata": {
    "_cell_guid": "9f081a14-7a1b-c6ae-c85d-31daa26d349f",
    "_uuid": "2abdb58b6697311df70f2400cdd8b89ffa012966",
    "execution": {
     "iopub.execute_input": "2021-12-21T11:04:40.687693Z",
     "iopub.status.busy": "2021-12-21T11:04:40.687101Z",
     "iopub.status.idle": "2021-12-21T11:04:42.182742Z",
     "shell.execute_reply": "2021-12-21T11:04:42.183618Z"
    },
    "papermill": {
     "duration": 1.515154,
     "end_time": "2021-12-21T11:04:42.183889",
     "exception": false,
     "start_time": "2021-12-21T11:04:40.668735",
     "status": "completed"
    },
    "tags": []
   },
   "outputs": [],
   "source": [
    "output = pd.DataFrame(clf.predict(PCtest), columns =['Label'])\n",
    "output.reset_index(inplace=True)\n",
    "output.rename(columns={'index': 'ImageId'}, inplace=True)\n",
    "output['ImageId']=output['ImageId']+1\n",
    "output.to_csv('output.csv', index=False)"
   ]
  },
  {
   "cell_type": "code",
   "execution_count": null,
   "id": "3ed453b1",
   "metadata": {
    "_cell_guid": "85b71ffc-e756-5ebe-d094-6b928d6150d5",
    "_uuid": "50e278c6ea4584ed8b5d0992ea2100cfc76d654c",
    "papermill": {
     "duration": 0.015792,
     "end_time": "2021-12-21T11:04:42.222230",
     "exception": false,
     "start_time": "2021-12-21T11:04:42.206438",
     "status": "completed"
    },
    "tags": []
   },
   "outputs": [],
   "source": []
  }
 ],
 "metadata": {
  "kernelspec": {
   "display_name": "Python 3",
   "language": "python",
   "name": "python3"
  },
  "language_info": {
   "codemirror_mode": {
    "name": "ipython",
    "version": 3
   },
   "file_extension": ".py",
   "mimetype": "text/x-python",
   "name": "python",
   "nbconvert_exporter": "python",
   "pygments_lexer": "ipython3",
   "version": "3.7.12"
  },
  "papermill": {
   "default_parameters": {},
   "duration": 134.880951,
   "end_time": "2021-12-21T11:04:43.049377",
   "environment_variables": {},
   "exception": null,
   "input_path": "__notebook__.ipynb",
   "output_path": "__notebook__.ipynb",
   "parameters": {},
   "start_time": "2021-12-21T11:02:28.168426",
   "version": "2.3.3"
  }
 },
 "nbformat": 4,
 "nbformat_minor": 5
}
